{
  "nbformat": 4,
  "nbformat_minor": 0,
  "metadata": {
    "colab": {
      "provenance": [],
      "authorship_tag": "ABX9TyO1332artHDk92bKBVuow0+",
      "include_colab_link": true
    },
    "kernelspec": {
      "name": "python3",
      "display_name": "Python 3"
    },
    "language_info": {
      "name": "python"
    }
  },
  "cells": [
    {
      "cell_type": "markdown",
      "metadata": {
        "id": "view-in-github",
        "colab_type": "text"
      },
      "source": [
        "<a href=\"https://colab.research.google.com/github/hellooishik/AssignmentOne/blob/main/Big_Data_Analytics_Assessment_2.ipynb\" target=\"_parent\"><img src=\"https://colab.research.google.com/assets/colab-badge.svg\" alt=\"Open In Colab\"/></a>"
      ]
    },
    {
      "cell_type": "code",
      "execution_count": 1,
      "metadata": {
        "id": "1zvI7vbp145F"
      },
      "outputs": [],
      "source": [
        "#starts the set\n"
      ]
    },
    {
      "cell_type": "markdown",
      "source": [
        "# Assignment Start - Big Data Analytics Assessment 2"
      ],
      "metadata": {
        "id": "DsfTGVxa-NGV"
      }
    },
    {
      "cell_type": "markdown",
      "source": [
        "**Big Data Analytics with PySpark: Technical Report**\n",
        "\n",
        "*Overview*\n",
        "In this technical report, I present the implementation of various data analytics tasks using PySpark, a powerful tool for big data processing and analysis. PySpark provides a Python API for Apache Spark, enabling scalable and distributed data processing on large datasets. Throughout this report, I demonstrate how to perform data preprocessing, exploratory data analysis (EDA), and machine learning tasks using PySpark.\n",
        "\n",
        "*Tasks*\n",
        "**Task 1: Data Loading and Preprocessing**\n",
        "The first task involves loading a dataset into PySpark and performing preprocessing steps such as handling missing values, encoding categorical variables, and feature engineering. I'll use the PySpark DataFrame API to accomplish these tasks efficiently.\n",
        "\n",
        "**Task 2: Exploratory Data Analysis (EDA)**\n",
        "After preprocessing the data, the next step is to perform exploratory data analysis (EDA) to gain insights into the dataset. I'll utilize PySpark's built-in functions for descriptive statistics, data visualization libraries like Matplotlib and Seaborn, and PySpark SQL for querying and summarizing the data.\n",
        "\n",
        "**Task 3: Machine Learning Modeling**\n",
        "Once we have a good understanding of the data, I'll proceed to build machine learning models for predictive analytics. I'll choose appropriate algorithms based on the nature of the problem (classification, regression, clustering, etc.) and the characteristics of the dataset. PySpark provides a wide range of machine learning algorithms, including linear regression, logistic regression, decision trees, random forests, and k-means clustering.\n",
        "\n",
        "**Task 4: Model Evaluation and Performance Analysis **\n",
        "After training the machine learning models, I'll evaluate their performance using relevant evaluation metrics such as accuracy, precision, recall, F1-score, and RMSE (for regression tasks). I'll also conduct cross-validation and hyperparameter tuning to optimize the model performance. Additionally, I'll analyze the model's predictions and identify any areas for improvement.\n",
        "\n",
        "**Task 5: Conclusion and Recommendations**\n",
        "In the final section of the report, I'll summarize the key findings from the data analysis and machine learning modeling. I'll provide insights into the dataset characteristics, model performance, and potential areas for further research or improvement. Additionally, I'll offer recommendations for stakeholders based on the insights gained from the analysis.\n",
        "\n",
        "**Conclusion**\n",
        "This technical report showcases the use of PySpark for big data analytics tasks, including data preprocessing, exploratory data analysis, and machine learning modeling. By leveraging the capabilities of PySpark, we can efficiently handle large-scale datasets and extract valuable insights for decision-making. Through a systematic approach to data analysis and modeling, we can derive actionable insights and drive business value from big data.\n",
        "\n",
        "\n",
        "\n",
        "\n",
        "\n",
        "\n"
      ],
      "metadata": {
        "id": "cNlth1ol-ead"
      }
    },
    {
      "cell_type": "markdown",
      "source": [
        "# Part I: Data Analysis and Modeling"
      ],
      "metadata": {
        "id": "mei4lKAe-IFH"
      }
    },
    {
      "cell_type": "markdown",
      "source": [
        "## Data Loading and Preprocessing\n"
      ],
      "metadata": {
        "id": "BbTdozLL_DpX"
      }
    },
    {
      "cell_type": "markdown",
      "source": [
        "### Data Loading:\n",
        "- We start by installing PySpark and importing the necessary libraries.\n",
        "- A SparkSession is created to initialize Spark.\n",
        "- The dataset is downloaded from a GitHub URL using the urllib library.\n",
        "- The CSV file is read into a Spark DataFrame using the `spark.read.csv()` method."
      ],
      "metadata": {
        "id": "H0q0tl2a_FTW"
      }
    },
    {
      "cell_type": "markdown",
      "source": [],
      "metadata": {
        "id": "OwKRaaj-_Ko1"
      }
    },
    {
      "cell_type": "code",
      "source": [
        "# Install PySpark\n",
        "!pip install pyspark"
      ],
      "metadata": {
        "colab": {
          "base_uri": "https://localhost:8080/"
        },
        "id": "cYk-euud2Iw1",
        "outputId": "4dd08d9f-63b4-4fb4-899a-fa910ae61c56"
      },
      "execution_count": 3,
      "outputs": [
        {
          "output_type": "stream",
          "name": "stdout",
          "text": [
            "Collecting pyspark\n",
            "  Downloading pyspark-3.5.1.tar.gz (317.0 MB)\n",
            "\u001b[2K     \u001b[90m━━━━━━━━━━━━━━━━━━━━━━━━━━━━━━━━━━━━━━━━\u001b[0m \u001b[32m317.0/317.0 MB\u001b[0m \u001b[31m4.6 MB/s\u001b[0m eta \u001b[36m0:00:00\u001b[0m\n",
            "\u001b[?25h  Preparing metadata (setup.py) ... \u001b[?25l\u001b[?25hdone\n",
            "Requirement already satisfied: py4j==0.10.9.7 in /usr/local/lib/python3.10/dist-packages (from pyspark) (0.10.9.7)\n",
            "Building wheels for collected packages: pyspark\n",
            "  Building wheel for pyspark (setup.py) ... \u001b[?25l\u001b[?25hdone\n",
            "  Created wheel for pyspark: filename=pyspark-3.5.1-py2.py3-none-any.whl size=317488491 sha256=89c69c5b4b6ad29f0dd914779511086565ef7a5eb77c54f9228c4b87df294022\n",
            "  Stored in directory: /root/.cache/pip/wheels/80/1d/60/2c256ed38dddce2fdd93be545214a63e02fbd8d74fb0b7f3a6\n",
            "Successfully built pyspark\n",
            "Installing collected packages: pyspark\n",
            "Successfully installed pyspark-3.5.1\n"
          ]
        }
      ]
    },
    {
      "cell_type": "code",
      "source": [
        "# Import necessary libraries\n",
        "from pyspark.sql import SparkSession\n"
      ],
      "metadata": {
        "id": "kajxI0x7282d"
      },
      "execution_count": 4,
      "outputs": []
    },
    {
      "cell_type": "code",
      "source": [
        "# Create a SparkSession\n",
        "spark = SparkSession.builder \\\n",
        "    .appName(\"BigDataAnalyticsAssignment\") \\\n",
        "    .getOrCreate()\n"
      ],
      "metadata": {
        "id": "e53AQNrx3CBs"
      },
      "execution_count": 5,
      "outputs": []
    },
    {
      "cell_type": "code",
      "source": [
        "import urllib.request\n",
        "\n",
        "# Download the CSV file from the GitHub URL\n",
        "url = \"https://raw.githubusercontent.com/hellooishik/AssignmentOne/bb8a4c34b8cf48185050608dc6ff8f8da5c4debb/dataset1.csv\"\n",
        "local_file_path = \"dataset1.csv\"\n",
        "urllib.request.urlretrieve(url, local_file_path)\n",
        "\n",
        "# Read the CSV file into a DataFrame\n",
        "df1 = spark.read.csv(local_file_path, header=True, inferSchema=True)\n"
      ],
      "metadata": {
        "id": "YlZkmd323G09"
      },
      "execution_count": 8,
      "outputs": []
    },
    {
      "cell_type": "code",
      "source": [
        "# Describe the structure of the DataFrame\n",
        "df1.printSchema()\n",
        "df1.show(5)  # Show first 5 rows"
      ],
      "metadata": {
        "colab": {
          "base_uri": "https://localhost:8080/"
        },
        "id": "TvLQI4SS4wwG",
        "outputId": "55cd4ac2-4458-4f25-dcc7-e19c17d56637"
      },
      "execution_count": 9,
      "outputs": [
        {
          "output_type": "stream",
          "name": "stdout",
          "text": [
            "root\n",
            " |-- X1: integer (nullable = true)\n",
            " |-- X2: double (nullable = true)\n",
            " |-- X3: string (nullable = true)\n",
            " |-- X4: integer (nullable = true)\n",
            " |-- X5: string (nullable = true)\n",
            " |-- X6: integer (nullable = true)\n",
            " |-- X7: integer (nullable = true)\n",
            " |-- X8: string (nullable = true)\n",
            " |-- X9: double (nullable = true)\n",
            " |-- Y1: integer (nullable = true)\n",
            "\n",
            "+---+------+----+---+---+---+---+---+----+---+\n",
            "| X1|    X2|  X3| X4| X5| X6| X7| X8|  X9| Y1|\n",
            "+---+------+----+---+---+---+---+---+----+---+\n",
            "| 59|28.378|0.34|204|196|132| 49| 92| 7.7|  1|\n",
            "| 59|24.968|   1|147|181|129| 34| 96|4.09|  1|\n",
            "| 48|31.307|0.62|155|185|127| 41|139| 4.5|  1|\n",
            "| 47|27.837|0.38|488|254|158| 55|250| 5.3|  2|\n",
            "| 55|22.662|0.49| 87|175|120| 44| 99| 6.9|  1|\n",
            "+---+------+----+---+---+---+---+---+----+---+\n",
            "only showing top 5 rows\n",
            "\n"
          ]
        }
      ]
    },
    {
      "cell_type": "markdown",
      "source": [
        "### Data Cleaning:\n",
        "- Null values in the DataFrame are removed using the `na.drop()` method.\n",
        "- The number of rows removed due to null values is calculated and printed."
      ],
      "metadata": {
        "id": "cuIOgkp5_Q_N"
      }
    },
    {
      "cell_type": "code",
      "source": [
        "# Remove rows with null values\n",
        "df2 = df1.na.drop()\n",
        "\n",
        "# Calculate the number of rows removed\n",
        "rows_removed = df1.count() - df2.count()\n",
        "print(\"Number of rows removed:\", rows_removed)\n"
      ],
      "metadata": {
        "colab": {
          "base_uri": "https://localhost:8080/"
        },
        "id": "ncDexy0142UE",
        "outputId": "c64f528e-b6b6-4ef7-abb3-d88a5f98827f"
      },
      "execution_count": 10,
      "outputs": [
        {
          "output_type": "stream",
          "name": "stdout",
          "text": [
            "Number of rows removed: 0\n"
          ]
        }
      ]
    },
    {
      "cell_type": "markdown",
      "source": [
        "## Exploratory Data Analysis (EDA)\n",
        "\n",
        "### Summary Statistics and Visualization for 'X1':\n",
        "- Summary statistics for the 'X1' feature are calculated using the `describe()` method.\n",
        "- A histogram of the 'X1' feature is generated using Matplotlib.\n"
      ],
      "metadata": {
        "id": "BPkqvu8l_bXP"
      }
    },
    {
      "cell_type": "code",
      "source": [
        "# Summary statistics for 'X1'\n",
        "df2.describe('X1').show()\n",
        "\n",
        "# Import necessary libraries for visualization\n",
        "import matplotlib.pyplot as plt\n",
        "\n",
        "# Generate a histogram for 'X1'\n",
        "plt.hist(df2.select('X1').rdd.flatMap(lambda x: x).collect(), bins=20)\n",
        "plt.xlabel('X1')\n",
        "plt.ylabel('Frequency')\n",
        "plt.title('Histogram of X1')\n",
        "plt.show()\n"
      ],
      "metadata": {
        "colab": {
          "base_uri": "https://localhost:8080/",
          "height": 646
        },
        "id": "owJjwRKc47Qs",
        "outputId": "6a4cc923-2756-4413-b7d7-e5a002138a8c"
      },
      "execution_count": 11,
      "outputs": [
        {
          "output_type": "stream",
          "name": "stdout",
          "text": [
            "+-------+-----------------+\n",
            "|summary|               X1|\n",
            "+-------+-----------------+\n",
            "|  count|             6967|\n",
            "|   mean|53.33156308310607|\n",
            "| stddev|8.715031757570447|\n",
            "|    min|               21|\n",
            "|    max|               90|\n",
            "+-------+-----------------+\n",
            "\n"
          ]
        },
        {
          "output_type": "display_data",
          "data": {
            "text/plain": [
              "<Figure size 640x480 with 1 Axes>"
            ],
            "image/png": "[encoded data removed]"
          },
          "metadata": {}
        }
      ]
    },
    {
      "cell_type": "markdown",
      "source": [
        "### Quartile Information and Visualization for 'X2':\n",
        "- Quartile information for the 'X2' feature is obtained using the `approxQuantile()` method.\n",
        "- A boxplot of the 'X2' feature is created using Matplotlib.\n"
      ],
      "metadata": {
        "id": "LuZYf0mp_eSu"
      }
    },
    {
      "cell_type": "code",
      "source": [
        "# Quartile info for 'X2'\n",
        "quartiles = df2.approxQuantile('X2', [0.25, 0.5, 0.75], 0)\n",
        "print(\"Quartile Info for X2:\", quartiles)\n",
        "\n",
        "# Generate a boxplot for 'X2'\n",
        "plt.boxplot(df2.select('X2').rdd.flatMap(lambda x: x).collect())\n",
        "plt.xlabel('X2')\n",
        "plt.title('Boxplot of X2')\n",
        "plt.show()\n"
      ],
      "metadata": {
        "colab": {
          "base_uri": "https://localhost:8080/",
          "height": 489
        },
        "id": "J7eEVGsD5CCk",
        "outputId": "04033888-adbe-466d-bb8c-40c0b237e61e"
      },
      "execution_count": 12,
      "outputs": [
        {
          "output_type": "stream",
          "name": "stdout",
          "text": [
            "Quartile Info for X2: [22.976, 24.697, 26.435]\n"
          ]
        },
        {
          "output_type": "display_data",
          "data": {
            "text/plain": [
              "<Figure size 640x480 with 1 Axes>"
            ],
            "image/png": "[encoded data removed]"
          },
          "metadata": {}
        }
      ]
    },
    {
      "cell_type": "code",
      "source": [
        "# Quartile info for 'X2'\n",
        "quartiles = df2.approxQuantile('X2', [0.25, 0.5, 0.75], 0)\n",
        "print(\"Quartile Info for X2:\", quartiles)\n",
        "\n",
        "# Generate a boxplot for 'X2'\n",
        "plt.boxplot(df2.select('X2').rdd.flatMap(lambda x: x).collect())\n",
        "plt.xlabel('X2')\n",
        "plt.title('Boxplot of X2')\n",
        "plt.show()\n"
      ],
      "metadata": {
        "colab": {
          "base_uri": "https://localhost:8080/",
          "height": 489
        },
        "id": "UbAOALQe5FOE",
        "outputId": "93317099-d0a3-461f-f3ec-d909275cdfb9"
      },
      "execution_count": 13,
      "outputs": [
        {
          "output_type": "stream",
          "name": "stdout",
          "text": [
            "Quartile Info for X2: [22.976, 24.697, 26.435]\n"
          ]
        },
        {
          "output_type": "display_data",
          "data": {
            "text/plain": [
              "<Figure size 640x480 with 1 Axes>"
            ],
            "image/png": "[encoded data removed]"
          },
          "metadata": {}
        }
      ]
    },
    {
      "cell_type": "markdown",
      "source": [
        "## Data Querying and Modeling"
      ],
      "metadata": {
        "id": "mZgfuErc_pf-"
      }
    },
    {
      "cell_type": "markdown",
      "source": [
        "### Data Querying:\n",
        "- Rows where 'X1' is greater than 50 and 'Y1' equals 1 are filtered using Spark DataFrame API.\n"
      ],
      "metadata": {
        "id": "ZB5bhOPv_qsO"
      }
    },
    {
      "cell_type": "code",
      "source": [
        "# Count rows where 'X1' > 50 and 'Y1' = 1\n",
        "count_condition = df2.filter((df2['X1'] > 50) & (df2['Y1'] == 1)).count()\n",
        "print(\"Number of rows where X1 > 50 and Y1 = 1:\", count_condition)\n"
      ],
      "metadata": {
        "colab": {
          "base_uri": "https://localhost:8080/"
        },
        "id": "QkdBbl965LL0",
        "outputId": "40b26f57-b978-4b80-abee-b52c5351de9a"
      },
      "execution_count": 14,
      "outputs": [
        {
          "output_type": "stream",
          "name": "stdout",
          "text": [
            "Number of rows where X1 > 50 and Y1 = 1: 2182\n"
          ]
        }
      ]
    },
    {
      "cell_type": "markdown",
      "source": [
        "### Model Building and Evaluation:\n",
        "- Categorical columns are identified, and StringIndexer is applied to convert them to numerical format.\n",
        "- Features are defined, and a VectorAssembler is used to create a feature vector.\n",
        "- The target variable 'Y1' is converted to binary format.\n",
        "- The data is split into training and testing sets.\n",
        "- Logistic Regression model is built using the LogisticRegression class from the `pyspark.ml.classification` module.\n",
        "- Model evaluation is performed using BinaryClassificationEvaluator with the area under the ROC curve (AUC) metric.\n"
      ],
      "metadata": {
        "id": "fjAE1de-_0a2"
      }
    },
    {
      "cell_type": "code",
      "source": [
        "from pyspark.ml.feature import VectorAssembler, StringIndexer\n",
        "from pyspark.ml.classification import LogisticRegression\n",
        "from pyspark.ml.evaluation import BinaryClassificationEvaluator\n",
        "\n",
        "# Assuming these are your categorical columns\n",
        "categorical_cols = [\"X3\", \"X5\", \"X8\"]\n",
        "\n",
        "# Apply StringIndexer to categorical columns only if the output column doesn't exist yet\n",
        "indexers = [StringIndexer(inputCol=col, outputCol=col+\"_index\", handleInvalid=\"skip\") for col in categorical_cols]\n",
        "\n",
        "# Define features including the indexed columns\n",
        "features = [col+\"_index\" if col in categorical_cols else col for col in df2.columns[:-1]]  # All columns except the label column ('Y1')\n",
        "\n",
        "# Create a vector assembler\n",
        "assembler = VectorAssembler(inputCols=features, outputCol='features')\n",
        "\n",
        "# Transform the data with StringIndexer and VectorAssembler\n",
        "for indexer in indexers:\n",
        "    output_col = indexer.getOutputCol()\n",
        "    if output_col not in df2.columns:\n",
        "        indexer_model = indexer.fit(df2)\n",
        "        df2 = indexer_model.transform(df2)\n",
        "\n",
        "# Convert target variable to binary format\n",
        "df2 = df2.withColumn('Y1_binary', (df2['Y1'] == 1).cast('integer'))\n",
        "\n",
        "# Split data into train and test sets\n",
        "train_data, test_data = df2.randomSplit([0.7, 0.3], seed=123)\n",
        "\n",
        "# Transform the data with VectorAssembler\n",
        "train_data = assembler.transform(train_data)\n",
        "test_data = assembler.transform(test_data)\n",
        "\n",
        "# Build Logistic Regression model\n",
        "lr = LogisticRegression(featuresCol='features', labelCol='Y1_binary', maxIter=10, regParam=0.3, elasticNetParam=0.8) # Set appropriate parameters for your model\n",
        "lr_model = lr.fit(train_data)\n",
        "\n",
        "# Evaluate model\n",
        "evaluator = BinaryClassificationEvaluator(labelCol='Y1_binary', metricName='areaUnderROC')  # Use areaUnderROC or areaUnderPR\n",
        "predictions = lr_model.transform(test_data)\n",
        "auc = evaluator.evaluate(predictions)\n",
        "print(\"AUC:\", auc)\n"
      ],
      "metadata": {
        "colab": {
          "base_uri": "https://localhost:8080/"
        },
        "id": "Gg6MNR1z5OUs",
        "outputId": "1441e853-787b-401e-cac0-9c566c23ad8d"
      },
      "execution_count": 22,
      "outputs": [
        {
          "output_type": "stream",
          "name": "stdout",
          "text": [
            "AUC: 1.0\n"
          ]
        }
      ]
    },
    {
      "cell_type": "markdown",
      "source": [
        "## Conclusion:\n",
        "- Part I of the assignment involved loading the dataset, performing data cleaning and preprocessing, conducting exploratory data analysis, and building a classification model.\n",
        "- The logistic regression model achieved an AUC score of 1.0\n"
      ],
      "metadata": {
        "id": "uH7nAaz9_63O"
      }
    },
    {
      "cell_type": "markdown",
      "source": [
        "# Part II: Further Analysis and Modeling"
      ],
      "metadata": {
        "id": "wcsAW9837r2O"
      }
    },
    {
      "cell_type": "markdown",
      "source": [
        "## Data Loading and Preprocessing\n"
      ],
      "metadata": {
        "id": "DGA-dpTVAYm4"
      }
    },
    {
      "cell_type": "markdown",
      "source": [],
      "metadata": {
        "id": "Ywezv4xRAovk"
      }
    },
    {
      "cell_type": "markdown",
      "source": [
        "\n",
        "### Data Retrieval:\n",
        "- The second dataset is fetched from a GitHub raw file URL using the requests library.\n",
        "- The raw content is obtained and saved into a BytesIO object."
      ],
      "metadata": {
        "id": "3ZVd5u-1AoL2"
      }
    },
    {
      "cell_type": "code",
      "source": [
        "import requests\n",
        "from io import StringIO, BytesIO\n",
        "import tempfile\n",
        "from pyspark.sql import SparkSession\n",
        "\n",
        "# Create a SparkSession\n",
        "spark = SparkSession.builder \\\n",
        "    .appName(\"Read CSV from GitHub\") \\\n",
        "    .getOrCreate()\n",
        "\n",
        "# GitHub raw file URL\n",
        "url = \"https://raw.githubusercontent.com/hellooishik/AssignmentOne/bb8a4c34b8cf48185050608dc6ff8f8da5c4debb/dataset2.csv\"\n",
        "\n",
        "# Fetch the raw content of the file\n",
        "response = requests.get(url)\n",
        "data = response.content\n",
        "\n",
        "# Convert the content into a BytesIO object\n",
        "bytes_io = BytesIO(data)\n",
        "\n",
        "# Save the BytesIO content to a temporary file\n",
        "with tempfile.NamedTemporaryFile(delete=False) as temp_file:\n",
        "    temp_file.write(data)\n",
        "    temp_file_path = temp_file.name\n",
        "\n",
        "# Read the CSV data into a DataFrame\n",
        "df3 = spark.read.csv(temp_file_path, header=True, inferSchema=True)\n",
        "\n",
        "# Describe the structure of the DataFrame\n",
        "df3.printSchema()\n"
      ],
      "metadata": {
        "colab": {
          "base_uri": "https://localhost:8080/"
        },
        "id": "vyjDaZpW7x9V",
        "outputId": "4c0e3a91-15d2-4e95-feb2-99df7053376e"
      },
      "execution_count": 25,
      "outputs": [
        {
          "output_type": "stream",
          "name": "stdout",
          "text": [
            "root\n",
            " |-- X1: integer (nullable = true)\n",
            " |-- X2: double (nullable = true)\n",
            " |-- X3: double (nullable = true)\n",
            " |-- X4: double (nullable = true)\n",
            " |-- X5: double (nullable = true)\n",
            " |-- X6: integer (nullable = true)\n",
            " |-- X7: double (nullable = true)\n",
            " |-- X8: double (nullable = true)\n",
            " |-- X9: double (nullable = true)\n",
            " |-- X10: string (nullable = true)\n",
            "\n"
          ]
        }
      ]
    },
    {
      "cell_type": "markdown",
      "source": [
        "### Data Loading:\n",
        "- The BytesIO content is saved to a temporary file.\n",
        "- The CSV data is read into a Spark DataFrame using `spark.read.csv()` method"
      ],
      "metadata": {
        "id": "w-nM4R8mAuj9"
      }
    },
    {
      "cell_type": "code",
      "source": [
        "# Describe the structure of the DataFrame\n",
        "df3.printSchema()\n",
        "df3.show(5)  # Show first 5 rows"
      ],
      "metadata": {
        "colab": {
          "base_uri": "https://localhost:8080/"
        },
        "id": "PFeqSwO68djm",
        "outputId": "7fd70c5e-e786-4357-8538-9174a99505ed"
      },
      "execution_count": 26,
      "outputs": [
        {
          "output_type": "stream",
          "name": "stdout",
          "text": [
            "root\n",
            " |-- X1: integer (nullable = true)\n",
            " |-- X2: double (nullable = true)\n",
            " |-- X3: double (nullable = true)\n",
            " |-- X4: double (nullable = true)\n",
            " |-- X5: double (nullable = true)\n",
            " |-- X6: integer (nullable = true)\n",
            " |-- X7: double (nullable = true)\n",
            " |-- X8: double (nullable = true)\n",
            " |-- X9: double (nullable = true)\n",
            " |-- X10: string (nullable = true)\n",
            "\n",
            "+--------+----+---+------------------+--------+-----+--------+----+-----+--------------------+\n",
            "|      X1|  X2| X3|                X4|      X5|   X6|      X7|  X8|   X9|                 X10|\n",
            "+--------+----+---+------------------+--------+-----+--------+----+-----+--------------------+\n",
            "|34811059|2.73|0.1| 3.328944661018629| 24.5962|12314|129.9049|75.3| 29.5|Middle East & Nor...|\n",
            "|19842251|6.43|2.0|1.4743533878509398|22.25083| 7103|130.1247|58.3|192.0|  Sub-Saharan Africa|\n",
            "|40381860|2.24|0.5|       4.785169983| 27.5017|14646|118.8915|75.5| 15.4|             America|\n",
            "| 2975029| 1.4|0.1|       1.804106217|25.35542| 7383|132.8108|72.5| 20.0|Europe & Central ...|\n",
            "|21370348|1.96|0.1|       18.01631327|27.56373|41312|117.3755|81.5|  5.2| East Asia & Pacific|\n",
            "+--------+----+---+------------------+--------+-----+--------+----+-----+--------------------+\n",
            "only showing top 5 rows\n",
            "\n"
          ]
        }
      ]
    },
    {
      "cell_type": "markdown",
      "source": [
        "### Structure of the DataFrame:\n",
        "- The structure of the DataFrame is described using the `printSchema()` method.\n",
        "- The first 5 rows of the DataFrame are displayed using the `show()` method.\n"
      ],
      "metadata": {
        "id": "3y0Hrh0cA_CM"
      }
    },
    {
      "cell_type": "markdown",
      "source": [
        "### Feature Engineering:\n",
        "- The 'X10' column is removed from the DataFrame using the `drop()` method.\n"
      ],
      "metadata": {
        "id": "JEqWCmWFBGoN"
      }
    },
    {
      "cell_type": "code",
      "source": [
        "# Remove the 'X10' column\n",
        "df4 = df3.drop('X10')\n",
        "df4.show(5)  # Show first 5 rows after dropping 'X10'\n"
      ],
      "metadata": {
        "colab": {
          "base_uri": "https://localhost:8080/"
        },
        "id": "cCdgAI1s8iVd",
        "outputId": "ca46eb8b-02c6-41dc-d40d-3053e2456bfa"
      },
      "execution_count": 27,
      "outputs": [
        {
          "output_type": "stream",
          "name": "stdout",
          "text": [
            "+--------+----+---+------------------+--------+-----+--------+----+-----+\n",
            "|      X1|  X2| X3|                X4|      X5|   X6|      X7|  X8|   X9|\n",
            "+--------+----+---+------------------+--------+-----+--------+----+-----+\n",
            "|34811059|2.73|0.1| 3.328944661018629| 24.5962|12314|129.9049|75.3| 29.5|\n",
            "|19842251|6.43|2.0|1.4743533878509398|22.25083| 7103|130.1247|58.3|192.0|\n",
            "|40381860|2.24|0.5|       4.785169983| 27.5017|14646|118.8915|75.5| 15.4|\n",
            "| 2975029| 1.4|0.1|       1.804106217|25.35542| 7383|132.8108|72.5| 20.0|\n",
            "|21370348|1.96|0.1|       18.01631327|27.56373|41312|117.3755|81.5|  5.2|\n",
            "+--------+----+---+------------------+--------+-----+--------+----+-----+\n",
            "only showing top 5 rows\n",
            "\n"
          ]
        }
      ]
    },
    {
      "cell_type": "markdown",
      "source": [
        "## Exploratory Data Analysis (EDA)\n",
        "\n",
        "### Visualization:\n",
        "- A scatter plot is generated to visualize the relationship between 'X2' and 'X8' features using Matplotlib.\n"
      ],
      "metadata": {
        "id": "YTAXISDIA1wm"
      }
    },
    {
      "cell_type": "code",
      "source": [
        "# Import necessary libraries for visualization\n",
        "import matplotlib.pyplot as plt\n",
        "\n",
        "# Scatter plot between 'X2' and 'X8'\n",
        "plt.scatter(df4.select('X2').rdd.flatMap(lambda x: x).collect(),\n",
        "            df4.select('X8').rdd.flatMap(lambda x: x).collect())\n",
        "plt.xlabel('X2')\n",
        "plt.ylabel('X8')\n",
        "plt.title('Relationship between X2 and X8')\n",
        "plt.show()\n"
      ],
      "metadata": {
        "colab": {
          "base_uri": "https://localhost:8080/",
          "height": 472
        },
        "id": "LOSZz9oM8n62",
        "outputId": "3edbe58c-6db8-42bc-e210-f08896cdf5b1"
      },
      "execution_count": 28,
      "outputs": [
        {
          "output_type": "display_data",
          "data": {
            "text/plain": [
              "<Figure size 640x480 with 1 Axes>"
            ],
            "image/png": "[encoded data removed]"
          },
          "metadata": {}
        }
      ]
    },
    {
      "cell_type": "markdown",
      "source": [
        "## Data Querying"
      ],
      "metadata": {
        "id": "PK6dMurtBQKs"
      }
    },
    {
      "cell_type": "markdown",
      "source": [
        "### SQL Query:\n",
        "- The DataFrame is registered as a temporary view.\n",
        "- SQL query is executed to filter rows where 'X2' is greater than 1.0 and 'X8' is greater than 70."
      ],
      "metadata": {
        "id": "UDI2rrjzBWDO"
      }
    },
    {
      "cell_type": "code",
      "source": [
        "# Register DataFrame as a temporary view\n",
        "df4.createOrReplaceTempView(\"data\")\n",
        "\n",
        "# Write SQL query to filter rows\n",
        "result = spark.sql(\"SELECT X2, X8 FROM data WHERE X2 > 1.0 AND X8 > 70\")\n",
        "result.show()\n"
      ],
      "metadata": {
        "colab": {
          "base_uri": "https://localhost:8080/"
        },
        "id": "i0IPWd3N8qTF",
        "outputId": "cd58e331-a012-497a-8c88-c69867008300"
      },
      "execution_count": 29,
      "outputs": [
        {
          "output_type": "stream",
          "name": "stdout",
          "text": [
            "+----+----+\n",
            "|  X2|  X8|\n",
            "+----+----+\n",
            "|2.73|75.3|\n",
            "|2.24|75.5|\n",
            "| 1.4|72.5|\n",
            "|1.96|81.5|\n",
            "|1.41|80.4|\n",
            "|1.99|70.6|\n",
            "|1.89|72.2|\n",
            "|1.83|75.3|\n",
            "|1.42|70.1|\n",
            "|1.82|79.4|\n",
            "|2.91|70.7|\n",
            "|3.48|70.9|\n",
            "| 1.9|73.9|\n",
            "|1.43|73.2|\n",
            "|1.68|80.7|\n",
            "|1.89|78.9|\n",
            "|2.43|75.1|\n",
            "|1.91|79.7|\n",
            "|1.43|76.5|\n",
            "| 1.5|77.8|\n",
            "+----+----+\n",
            "only showing top 20 rows\n",
            "\n"
          ]
        }
      ]
    },
    {
      "cell_type": "markdown",
      "source": [
        "## Model Building and Evaluation"
      ],
      "metadata": {
        "id": "FErBzGypBnHc"
      }
    },
    {
      "cell_type": "markdown",
      "source": [
        "### Linear Regression Model:\n",
        "- Features are assembled into a vector using VectorAssembler.\n",
        "- Data is split into training and testing sets.\n",
        "- Linear Regression model is built using the LinearRegression class from `pyspark.ml.regression` module.\n",
        "- Model evaluation is performed using RegressionEvaluator with the root mean square error (RMSE) metric.\n"
      ],
      "metadata": {
        "id": "UxCKBuIRBoO7"
      }
    },
    {
      "cell_type": "code",
      "source": [
        "from pyspark.ml.feature import VectorAssembler\n",
        "from pyspark.ml.regression import LinearRegression\n",
        "from pyspark.ml.evaluation import RegressionEvaluator\n",
        "\n",
        "# Assuming 'X2' is your numeric feature column\n",
        "# Assemble features into a vector\n",
        "assembler = VectorAssembler(inputCols=['X2'], outputCol='features')\n",
        "df4 = assembler.transform(df4)\n",
        "\n",
        "# Split data into train and test sets\n",
        "train_data, test_data = df4.randomSplit([0.7, 0.3], seed=123)\n",
        "\n",
        "# Build Linear Regression model\n",
        "lr = LinearRegression(featuresCol='features', labelCol='X8')\n",
        "lr_model = lr.fit(train_data)\n",
        "\n",
        "# Evaluate model\n",
        "predictions = lr_model.transform(test_data)\n",
        "evaluator = RegressionEvaluator(labelCol='X8', predictionCol='prediction', metricName='rmse')\n",
        "rmse = evaluator.evaluate(predictions)\n",
        "print(\"RMSE:\", rmse)\n"
      ],
      "metadata": {
        "colab": {
          "base_uri": "https://localhost:8080/"
        },
        "id": "V5tYZCKO81LF",
        "outputId": "061b1d12-ad19-4629-b4dc-29f1b4011cbe"
      },
      "execution_count": 31,
      "outputs": [
        {
          "output_type": "stream",
          "name": "stdout",
          "text": [
            "RMSE: 6.04026650060922\n"
          ]
        }
      ]
    },
    {
      "cell_type": "markdown",
      "source": [
        "### Lasso Regression Model:\n",
        "- Features are assembled into a vector.\n",
        "- Lasso Regression model is built using the LinearRegression class with elasticNetParam set to 1 (L1 regularization) and regParam set to 0.1.\n",
        "- Model evaluation is performed using RegressionEvaluator with the RMSE metric."
      ],
      "metadata": {
        "id": "Y93hHs8EBs1D"
      }
    },
    {
      "cell_type": "code",
      "source": [
        "from pyspark.ml.feature import VectorAssembler\n",
        "from pyspark.ml.regression import LinearRegression\n",
        "\n",
        "# Assuming 'X2' is your numeric feature column\n",
        "# Assemble features into a vector\n",
        "features = df4.columns[:-1]  # All columns except the last one ('X8')\n",
        "assembler = VectorAssembler(inputCols=features, outputCol='features')\n",
        "\n",
        "# Drop existing 'features' column if it exists\n",
        "train_data = train_data.drop('features')\n",
        "test_data = test_data.drop('features')\n",
        "\n",
        "# Transform the data\n",
        "train_data = assembler.transform(train_data)\n",
        "test_data = assembler.transform(test_data)\n",
        "\n",
        "# Build Lasso Regression model\n",
        "lasso = LinearRegression(featuresCol='features', labelCol='X8', elasticNetParam=1, regParam=0.1)\n",
        "lasso_model = lasso.fit(train_data)\n",
        "\n",
        "# Evaluate model\n",
        "predictions = lasso_model.transform(test_data)\n",
        "rmse = evaluator.evaluate(predictions)\n",
        "print(\"RMSE (Lasso Regression):\", rmse)\n"
      ],
      "metadata": {
        "colab": {
          "base_uri": "https://localhost:8080/"
        },
        "id": "NTLOi4ru9C1l",
        "outputId": "5a2f38c0-6b92-448a-e41f-b4371357da17"
      },
      "execution_count": 33,
      "outputs": [
        {
          "output_type": "stream",
          "name": "stdout",
          "text": [
            "RMSE (Lasso Regression): 0.1084914948101073\n"
          ]
        }
      ]
    },
    {
      "cell_type": "markdown",
      "source": [
        "## Conclusion:\n",
        "- Part II of the assignment involved loading the second dataset, conducting further analysis, and building regression models.\n",
        "- The linear regression model achieved an RMSE score of 6.04026650060922\n",
        "- The Lasso regression model achieved an RMSE score of 0.1084914948101073"
      ],
      "metadata": {
        "id": "R80CsNp6BwUE"
      }
    }
  ]
}